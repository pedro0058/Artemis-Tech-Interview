{
 "cells": [
  {
   "cell_type": "markdown",
   "metadata": {},
   "source": [
    "# Loading dataset"
   ]
  },
  {
   "cell_type": "code",
   "execution_count": 2,
   "metadata": {},
   "outputs": [
    {
     "data": {
      "text/html": [
       "<div>\n",
       "<style scoped>\n",
       "    .dataframe tbody tr th:only-of-type {\n",
       "        vertical-align: middle;\n",
       "    }\n",
       "\n",
       "    .dataframe tbody tr th {\n",
       "        vertical-align: top;\n",
       "    }\n",
       "\n",
       "    .dataframe thead th {\n",
       "        text-align: right;\n",
       "    }\n",
       "</style>\n",
       "<table border=\"1\" class=\"dataframe\">\n",
       "  <thead>\n",
       "    <tr style=\"text-align: right;\">\n",
       "      <th></th>\n",
       "      <th>mean_concave_points</th>\n",
       "      <th>mean_perimeter</th>\n",
       "      <th>mean_fractal_dimension</th>\n",
       "      <th>worst_perimeter</th>\n",
       "      <th>worst_texture</th>\n",
       "      <th>worst_area</th>\n",
       "      <th>target</th>\n",
       "    </tr>\n",
       "  </thead>\n",
       "  <tbody>\n",
       "    <tr>\n",
       "      <th>0</th>\n",
       "      <td>0.03821</td>\n",
       "      <td>81.09</td>\n",
       "      <td>0.06373</td>\n",
       "      <td>96.05</td>\n",
       "      <td>24.64</td>\n",
       "      <td>677.9</td>\n",
       "      <td>1</td>\n",
       "    </tr>\n",
       "    <tr>\n",
       "      <th>1</th>\n",
       "      <td>0.07951</td>\n",
       "      <td>123.60</td>\n",
       "      <td>0.05461</td>\n",
       "      <td>165.90</td>\n",
       "      <td>26.58</td>\n",
       "      <td>1866.0</td>\n",
       "      <td>0</td>\n",
       "    </tr>\n",
       "    <tr>\n",
       "      <th>2</th>\n",
       "      <td>0.08087</td>\n",
       "      <td>101.70</td>\n",
       "      <td>0.05796</td>\n",
       "      <td>124.90</td>\n",
       "      <td>26.00</td>\n",
       "      <td>1156.0</td>\n",
       "      <td>0</td>\n",
       "    </tr>\n",
       "    <tr>\n",
       "      <th>3</th>\n",
       "      <td>0.02799</td>\n",
       "      <td>81.47</td>\n",
       "      <td>0.07102</td>\n",
       "      <td>89.61</td>\n",
       "      <td>22.91</td>\n",
       "      <td>515.8</td>\n",
       "      <td>1</td>\n",
       "    </tr>\n",
       "    <tr>\n",
       "      <th>4</th>\n",
       "      <td>0.02594</td>\n",
       "      <td>74.65</td>\n",
       "      <td>0.06782</td>\n",
       "      <td>78.78</td>\n",
       "      <td>19.68</td>\n",
       "      <td>457.8</td>\n",
       "      <td>1</td>\n",
       "    </tr>\n",
       "    <tr>\n",
       "      <th>...</th>\n",
       "      <td>...</td>\n",
       "      <td>...</td>\n",
       "      <td>...</td>\n",
       "      <td>...</td>\n",
       "      <td>...</td>\n",
       "      <td>...</td>\n",
       "      <td>...</td>\n",
       "    </tr>\n",
       "    <tr>\n",
       "      <th>564</th>\n",
       "      <td>0.02872</td>\n",
       "      <td>58.79</td>\n",
       "      <td>0.08980</td>\n",
       "      <td>62.56</td>\n",
       "      <td>15.67</td>\n",
       "      <td>284.4</td>\n",
       "      <td>1</td>\n",
       "    </tr>\n",
       "    <tr>\n",
       "      <th>565</th>\n",
       "      <td>0.03485</td>\n",
       "      <td>75.17</td>\n",
       "      <td>0.06520</td>\n",
       "      <td>85.51</td>\n",
       "      <td>29.26</td>\n",
       "      <td>521.7</td>\n",
       "      <td>1</td>\n",
       "    </tr>\n",
       "    <tr>\n",
       "      <th>566</th>\n",
       "      <td>0.00625</td>\n",
       "      <td>90.30</td>\n",
       "      <td>0.05376</td>\n",
       "      <td>94.44</td>\n",
       "      <td>20.65</td>\n",
       "      <td>684.6</td>\n",
       "      <td>1</td>\n",
       "    </tr>\n",
       "    <tr>\n",
       "      <th>567</th>\n",
       "      <td>0.06463</td>\n",
       "      <td>91.12</td>\n",
       "      <td>0.06544</td>\n",
       "      <td>113.90</td>\n",
       "      <td>30.80</td>\n",
       "      <td>869.3</td>\n",
       "      <td>0</td>\n",
       "    </tr>\n",
       "    <tr>\n",
       "      <th>568</th>\n",
       "      <td>0.01770</td>\n",
       "      <td>77.22</td>\n",
       "      <td>0.05677</td>\n",
       "      <td>84.58</td>\n",
       "      <td>32.84</td>\n",
       "      <td>547.8</td>\n",
       "      <td>1</td>\n",
       "    </tr>\n",
       "  </tbody>\n",
       "</table>\n",
       "<p>569 rows × 7 columns</p>\n",
       "</div>"
      ],
      "text/plain": [
       "     mean_concave_points  mean_perimeter  mean_fractal_dimension  \\\n",
       "0                0.03821           81.09                 0.06373   \n",
       "1                0.07951          123.60                 0.05461   \n",
       "2                0.08087          101.70                 0.05796   \n",
       "3                0.02799           81.47                 0.07102   \n",
       "4                0.02594           74.65                 0.06782   \n",
       "..                   ...             ...                     ...   \n",
       "564              0.02872           58.79                 0.08980   \n",
       "565              0.03485           75.17                 0.06520   \n",
       "566              0.00625           90.30                 0.05376   \n",
       "567              0.06463           91.12                 0.06544   \n",
       "568              0.01770           77.22                 0.05677   \n",
       "\n",
       "     worst_perimeter  worst_texture  worst_area  target  \n",
       "0              96.05          24.64       677.9       1  \n",
       "1             165.90          26.58      1866.0       0  \n",
       "2             124.90          26.00      1156.0       0  \n",
       "3              89.61          22.91       515.8       1  \n",
       "4              78.78          19.68       457.8       1  \n",
       "..               ...            ...         ...     ...  \n",
       "564            62.56          15.67       284.4       1  \n",
       "565            85.51          29.26       521.7       1  \n",
       "566            94.44          20.65       684.6       1  \n",
       "567           113.90          30.80       869.3       0  \n",
       "568            84.58          32.84       547.8       1  \n",
       "\n",
       "[569 rows x 7 columns]"
      ]
     },
     "metadata": {},
     "output_type": "display_data"
    }
   ],
   "source": [
    "import pandas as pd\n",
    "\n",
    "df_dataset = pd.read_csv('breast_cancer.csv', index_col=0)\n",
    "\n",
    "df_dataset = df_dataset.sample(frac=1, random_state=42).reset_index(drop=True)\n",
    "\n",
    "# Defining features\n",
    "df_x = df_dataset[['mean_concave_points','mean_perimeter','mean_fractal_dimension','worst_perimeter','worst_texture','worst_area']]\n",
    "\n",
    "#Split the dataset 80% training 20% testing\n",
    "train_size = int(0.8 * len(df_dataset))\n",
    "train = df_dataset[:train_size]\n",
    "test = df_dataset[train_size:]\n",
    "\n",
    "# Defining features\n",
    "df_x_train = train[['mean_concave_points','mean_perimeter','mean_fractal_dimension','worst_perimeter','worst_texture','worst_area']]\n",
    "df_x_test = test[['mean_concave_points','mean_perimeter','mean_fractal_dimension','worst_perimeter','worst_texture','worst_area']]\n",
    "\n",
    "# Defining labels\n",
    "df_y_train = train['target']\n",
    "df_y_test = test['target']\n",
    "\n",
    "display(df_dataset)"
   ]
  },
  {
   "cell_type": "markdown",
   "metadata": {},
   "source": [
    "# Visualizing the data in a correlation matrix"
   ]
  },
  {
   "cell_type": "code",
   "execution_count": 3,
   "metadata": {},
   "outputs": [
    {
     "data": {
      "image/png": "[encoded data removed]",
      "text/plain": [
       "<Figure size 800x600 with 2 Axes>"
      ]
     },
     "metadata": {},
     "output_type": "display_data"
    }
   ],
   "source": [
    "import matplotlib.pyplot as plt\n",
    "import seaborn as sns\n",
    "\n",
    "corr_matrix = df_dataset[['mean_concave_points','mean_perimeter','mean_fractal_dimension','worst_perimeter','worst_texture','worst_area']].corr()\n",
    "\n",
    "plt.figure(figsize=(8, 6))\n",
    "sns.heatmap(corr_matrix, annot=True, cmap='coolwarm', fmt='.2f', linewidths=0.5)\n",
    "\n",
    "plt.title('Correlation Matrix Heatmap')\n",
    "plt.show()"
   ]
  },
  {
   "cell_type": "markdown",
   "metadata": {},
   "source": [
    "# Questions"
   ]
  },
  {
   "cell_type": "markdown",
   "metadata": {},
   "source": [
    "2 – Construa uma regressão linear para prever o tipo do tumor, indique as variaveis preditoras e as com\n",
    "significancia marginal neste modelo. Dica, utilize o modulo “OLS” do “statsmodels”. Comente os\n",
    "resultados obtidos."
   ]
  },
  {
   "cell_type": "code",
   "execution_count": 4,
   "metadata": {},
   "outputs": [],
   "source": [
    "import numpy as np\n",
    "\n",
    "def accuracy_score(y_true: np.ndarray , y_pred: np.ndarray) -> float:\n",
    "    TP = np.sum((y_pred == 1) & (y_true == 1))\n",
    "    TN = np.sum((y_pred == 0) & (y_true == 0))\n",
    "    FP = np.sum((y_pred == 1) & (y_true == 0)) \n",
    "    FN = np.sum((y_pred == 0) & (y_true == 1)) \n",
    "    return (TP + TN) / (TP + TN + FP + FN)\n",
    "\n",
    "def precision_score(y_true: np.ndarray , y_pred: np.ndarray) -> float:\n",
    "    TP = np.sum((y_pred == 1) & (y_true == 1))\n",
    "    FP = np.sum((y_pred == 1) & (y_true == 0))\n",
    "    return TP / (TP + FP) if (TP + FP) > 0 else 0\n",
    "\n",
    "def recall_score(y_true: np.ndarray , y_pred: np.ndarray) -> float:\n",
    "    TP = np.sum((y_pred == 1) & (y_true == 1))\n",
    "    FN = np.sum((y_pred == 0) & (y_true == 1))\n",
    "    return TP / (TP + FN) if (TP + FN) > 0 else 0\n",
    "\n",
    "def f1_score(y_true: np.ndarray , y_pred: np.ndarray) -> float:\n",
    "    precision = precision_score(y_true, y_pred)\n",
    "    recall = recall_score(y_true, y_pred)\n",
    "    return 2 * (precision * recall) / (precision + recall) if (precision + recall) > 0 else 0\n",
    "\n",
    "def show_metrics(y_true: np.ndarray , y_pred: np.ndarray) -> None:\n",
    "    accuracy = accuracy_score(y_true, y_pred)\n",
    "    precision = precision_score(y_true, y_pred)\n",
    "    recall = recall_score(y_true, y_pred)\n",
    "    f1 = f1_score(y_true, y_pred)\n",
    "\n",
    "    print(f\"Acurácia: {accuracy:.4f}\")\n",
    "    print(f\"Precisão: {precision:.4f}\")\n",
    "    print(f\"Recall: {recall:.4f}\")\n",
    "    print(f\"F1-score: {f1:.4f}\")\n",
    "    "
   ]
  },
  {
   "cell_type": "code",
   "execution_count": 5,
   "metadata": {},
   "outputs": [
    {
     "name": "stdout",
     "output_type": "stream",
     "text": [
      "                            OLS Regression Results                            \n",
      "==============================================================================\n",
      "Dep. Variable:                 target   R-squared:                       0.711\n",
      "Model:                            OLS   Adj. R-squared:                  0.707\n",
      "Method:                 Least Squares   F-statistic:                     183.8\n",
      "Date:                Mon, 31 Mar 2025   Prob (F-statistic):          2.06e-117\n",
      "Time:                        21:31:36   Log-Likelihood:                -29.892\n",
      "No. Observations:                 455   AIC:                             73.78\n",
      "Df Residuals:                     448   BIC:                             102.6\n",
      "Df Model:                           6                                         \n",
      "Covariance Type:            nonrobust                                         \n",
      "==========================================================================================\n",
      "                             coef    std err          t      P>|t|      [0.025      0.975]\n",
      "------------------------------------------------------------------------------------------\n",
      "const                      1.5981      0.278      5.754      0.000       1.052       2.144\n",
      "mean_concave_points       -5.7971      0.946     -6.126      0.000      -7.657      -3.937\n",
      "mean_perimeter             0.0084      0.003      3.264      0.001       0.003       0.013\n",
      "mean_fractal_dimension     4.6826      2.857      1.639      0.102      -0.933      10.298\n",
      "worst_perimeter           -0.0151      0.003     -5.543      0.000      -0.020      -0.010\n",
      "worst_texture             -0.0149      0.002     -6.576      0.000      -0.019      -0.010\n",
      "worst_area                 0.0003      0.000      2.615      0.009    7.34e-05       0.001\n",
      "==============================================================================\n",
      "Omnibus:                       19.300   Durbin-Watson:                   2.129\n",
      "Prob(Omnibus):                  0.000   Jarque-Bera (JB):               20.679\n",
      "Skew:                          -0.517   Prob(JB):                     3.23e-05\n",
      "Kurtosis:                       3.150   Cond. No.                     2.53e+05\n",
      "==============================================================================\n",
      "\n",
      "Notes:\n",
      "[1] Standard Errors assume that the covariance matrix of the errors is correctly specified.\n",
      "[2] The condition number is large, 2.53e+05. This might indicate that there are\n",
      "strong multicollinearity or other numerical problems.\n"
     ]
    }
   ],
   "source": [
    "import statsmodels.api as sm\n",
    "\n",
    "x_train = sm.add_constant(df_x_train)\n",
    "x_test = sm.add_constant(df_x_test)\n",
    "\n",
    "res = sm.regression.linear_model.OLS(df_y_train, x_train).fit()\n",
    "print(res.summary())\n",
    "\n",
    "y_pred_prob = res.predict(x_test)\n",
    "y_pred = (y_pred_prob >= 0.5).astype(int)"
   ]
  },
  {
   "cell_type": "markdown",
   "metadata": {},
   "source": [
    "Métricas:"
   ]
  },
  {
   "cell_type": "code",
   "execution_count": 6,
   "metadata": {},
   "outputs": [
    {
     "name": "stdout",
     "output_type": "stream",
     "text": [
      "Acurácia: 0.9474\n",
      "Precisão: 0.9178\n",
      "Recall: 1.0000\n",
      "F1-score: 0.9571\n"
     ]
    }
   ],
   "source": [
    "show_metrics(df_y_test,y_pred)"
   ]
  },
  {
   "cell_type": "markdown",
   "metadata": {},
   "source": [
    "* Variáveis preditores\n",
    "    - mean_concave_points\n",
    "    - mean_perimeter\n",
    "    - mean_fractal_dimension\n",
    "    - worst_perimeter\n",
    "    - worst_texture\n",
    "    - worst_area  \n",
    "\n",
    "* Variáveis preditoras significativas (P < 0.05)\n",
    "    - mean_concave_points\n",
    "    - mean_perimeter\n",
    "    - worst_perimeter\n",
    "    - worst_texture\n",
    "    - worst_area\n",
    "* Variáveis com significância marginal (0.1 > P >  0.05)\n",
    "    - Nenhuma\n",
    "* Variáveis não significativas (P >  0.1)\n",
    "    - mean_fractal_dimension\n",
    "\n",
    "Comentários: \"O número da condição é grande, 2,52e+05. Isso pode indicar que há uma forte multicolinearidade ou outros problemas numéricos.\" A multicolinearidade indica quando variáveis independentes em uma equação de regressão linear estão correlacionadas. Variáveis multicolineares podem afetar negativamente as previsões do modelo em dados não vistos."
   ]
  },
  {
   "cell_type": "code",
   "execution_count": 7,
   "metadata": {},
   "outputs": [
    {
     "data": {
      "text/html": [
       "<div>\n",
       "<style scoped>\n",
       "    .dataframe tbody tr th:only-of-type {\n",
       "        vertical-align: middle;\n",
       "    }\n",
       "\n",
       "    .dataframe tbody tr th {\n",
       "        vertical-align: top;\n",
       "    }\n",
       "\n",
       "    .dataframe thead th {\n",
       "        text-align: right;\n",
       "    }\n",
       "</style>\n",
       "<table border=\"1\" class=\"dataframe\">\n",
       "  <thead>\n",
       "    <tr style=\"text-align: right;\">\n",
       "      <th></th>\n",
       "      <th>Variável</th>\n",
       "      <th>VIF</th>\n",
       "    </tr>\n",
       "  </thead>\n",
       "  <tbody>\n",
       "    <tr>\n",
       "      <th>0</th>\n",
       "      <td>worst_perimeter</td>\n",
       "      <td>589.245144</td>\n",
       "    </tr>\n",
       "    <tr>\n",
       "      <th>1</th>\n",
       "      <td>mean_perimeter</td>\n",
       "      <td>261.695188</td>\n",
       "    </tr>\n",
       "    <tr>\n",
       "      <th>2</th>\n",
       "      <td>worst_area</td>\n",
       "      <td>75.708306</td>\n",
       "    </tr>\n",
       "    <tr>\n",
       "      <th>3</th>\n",
       "      <td>mean_fractal_dimension</td>\n",
       "      <td>43.078446</td>\n",
       "    </tr>\n",
       "    <tr>\n",
       "      <th>4</th>\n",
       "      <td>worst_texture</td>\n",
       "      <td>21.956045</td>\n",
       "    </tr>\n",
       "    <tr>\n",
       "      <th>5</th>\n",
       "      <td>mean_concave_points</td>\n",
       "      <td>8.060909</td>\n",
       "    </tr>\n",
       "  </tbody>\n",
       "</table>\n",
       "</div>"
      ],
      "text/plain": [
       "                 Variável         VIF\n",
       "0         worst_perimeter  589.245144\n",
       "1          mean_perimeter  261.695188\n",
       "2              worst_area   75.708306\n",
       "3  mean_fractal_dimension   43.078446\n",
       "4           worst_texture   21.956045\n",
       "5     mean_concave_points    8.060909"
      ]
     },
     "metadata": {},
     "output_type": "display_data"
    }
   ],
   "source": [
    "from statsmodels.stats.outliers_influence import variance_inflation_factor\n",
    "\n",
    "df_vif = pd.DataFrame()\n",
    "df_vif[\"Variável\"] = df_x.columns\n",
    "df_vif[\"VIF\"] = [variance_inflation_factor(df_x.values, i) for i in range(df_x.shape[1])]\n",
    "\n",
    "df_vif = df_vif.sort_values(by=\"VIF\", ascending=False).reset_index(drop=True)\n",
    "\n",
    "display(df_vif)"
   ]
  },
  {
   "cell_type": "markdown",
   "metadata": {},
   "source": [
    "Ao avaliar o VIF das variáveis independentes é possível notas que 'mean_perimeter', 'worst_perimeter', 'worst_area' possuem um VIF MUITO elevado e devem ser resolvidas para impedir que as previsões de dados não vistos pelo modelo sejam afetadas.\n",
    "\n",
    "Possíveis soluções: Remover variáveis altamente correlacionadas ou aplicar Ridge Regression. "
   ]
  },
  {
   "cell_type": "markdown",
   "metadata": {},
   "source": [
    "3 – Construa uma regressão logistica para prever o tipo do tumor, indique as variaveis preditoras e as\n",
    "com significancia marginal neste modelo. Dica utilize o modulo “GLM” do “statsmodels” com reposta\n",
    "binomial. Comente os resultados obtidos."
   ]
  },
  {
   "cell_type": "code",
   "execution_count": 8,
   "metadata": {},
   "outputs": [
    {
     "name": "stdout",
     "output_type": "stream",
     "text": [
      "                 Generalized Linear Model Regression Results                  \n",
      "==============================================================================\n",
      "Dep. Variable:                 target   No. Observations:                  455\n",
      "Model:                            GLM   Df Residuals:                      448\n",
      "Model Family:                Binomial   Df Model:                            6\n",
      "Link Function:                  Logit   Scale:                          1.0000\n",
      "Method:                          IRLS   Log-Likelihood:                -29.261\n",
      "Date:                Mon, 31 Mar 2025   Deviance:                       58.522\n",
      "Time:                        21:31:36   Pearson chi2:                 5.16e+03\n",
      "No. Iterations:                    10   Pseudo R-squ. (CS):             0.6931\n",
      "Covariance Type:            nonrobust                                         \n",
      "==========================================================================================\n",
      "                             coef    std err          z      P>|z|      [0.025      0.975]\n",
      "------------------------------------------------------------------------------------------\n",
      "const                      7.3251      8.625      0.849      0.396      -9.579      24.229\n",
      "mean_concave_points     -143.4511     34.962     -4.103      0.000    -211.975     -74.927\n",
      "mean_perimeter             0.4110      0.118      3.492      0.000       0.180       0.642\n",
      "mean_fractal_dimension    30.6848     81.311      0.377      0.706    -128.682     190.051\n",
      "worst_perimeter           -0.0950      0.107     -0.888      0.375      -0.305       0.115\n",
      "worst_texture             -0.2843      0.072     -3.946      0.000      -0.426      -0.143\n",
      "worst_area                -0.0277      0.009     -2.988      0.003      -0.046      -0.010\n",
      "==========================================================================================\n"
     ]
    }
   ],
   "source": [
    "res = sm.GLM(df_y_train, x_train, family=sm.families.Binomial()).fit()\n",
    "print(res.summary())\n",
    "\n",
    "y_pred_prob = res.predict(x_test)\n",
    "y_pred = (y_pred_prob >= 0.5).astype(int)"
   ]
  },
  {
   "cell_type": "markdown",
   "metadata": {},
   "source": [
    "Métricas:"
   ]
  },
  {
   "cell_type": "code",
   "execution_count": 9,
   "metadata": {},
   "outputs": [
    {
     "name": "stdout",
     "output_type": "stream",
     "text": [
      "Acurácia: 0.9474\n",
      "Precisão: 0.9420\n",
      "Recall: 0.9701\n",
      "F1-score: 0.9559\n"
     ]
    }
   ],
   "source": [
    "show_metrics(df_y_test,y_pred)"
   ]
  },
  {
   "cell_type": "markdown",
   "metadata": {},
   "source": [
    "* Variáveis preditores\n",
    "    - mean_concave_points\n",
    "    - mean_perimeter\n",
    "    - mean_fractal_dimension\n",
    "    - worst_perimeter\n",
    "    - worst_texture\n",
    "    - worst_area\n",
    "* Variáveis preditoras significativas(P < 0.05)\n",
    "    - mean_concave_points\n",
    "    - mean_perimeter\n",
    "    - worst_texture\n",
    "    - worst_area\n",
    "* Variáveis com significância marginal (0.1 > P >  0.05)\n",
    "    - Nenhuma\n",
    "* Variáveis não significativas (P >  0.1)\n",
    "    - mean_fractal_dimension\n",
    "    - worst_perimeter"
   ]
  }
 ],
 "metadata": {
  "kernelspec": {
   "display_name": "Python 3",
   "language": "python",
   "name": "python3"
  },
  "language_info": {
   "codemirror_mode": {
    "name": "ipython",
    "version": 3
   },
   "file_extension": ".py",
   "mimetype": "text/x-python",
   "name": "python",
   "nbconvert_exporter": "python",
   "pygments_lexer": "ipython3",
   "version": "3.12.2"
  }
 },
 "nbformat": 4,
 "nbformat_minor": 2
}
